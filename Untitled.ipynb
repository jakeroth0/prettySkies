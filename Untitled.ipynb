{
 "cells": [
  {
   "cell_type": "code",
   "execution_count": 1,
   "id": "ab6ca24d-50a8-4dc0-bc4a-62625e8c62c5",
   "metadata": {},
   "outputs": [
    {
     "name": "stdout",
     "output_type": "stream",
     "text": [
      "Sunset at 2025-04-26T19:55, Cloud Cover: 70% → Score: 30/100\n"
     ]
    }
   ],
   "source": [
    "import requests\n",
    "from datetime import date\n",
    "\n",
    "# 1. Set your coordinates (e.g. San Francisco)\n",
    "lat, lon = 37.7749, -122.4194\n",
    "\n",
    "# 2. Get today’s date in ISO format\n",
    "today = date.today().isoformat()\n",
    "\n",
    "# 3. Build & call the Open-Meteo API\n",
    "url = (\n",
    "    \"https://api.open-meteo.com/v1/forecast\"\n",
    "    f\"?latitude={lat}&longitude={lon}\"\n",
    "    \"&daily=sunset,cloudcover_mean\"\n",
    "    \"&timezone=auto\"\n",
    ")\n",
    "resp = requests.get(url)\n",
    "data = resp.json()\n",
    "\n",
    "# 4. Extract the raw values\n",
    "sunset_time = data[\"daily\"][\"sunset\"][0]\n",
    "cloud_cover = data[\"daily\"][\"cloudcover_mean\"][0]\n",
    "\n",
    "# 5. Compute a simple “Sunset Score”\n",
    "score = max(0, 100 - cloud_cover)\n",
    "\n",
    "# 6. Print the results\n",
    "print(f\"Sunset at {sunset_time}, Cloud Cover: {cloud_cover}% → Score: {score}/100\")\n"
   ]
  },
  {
   "cell_type": "code",
   "execution_count": null,
   "id": "ee50517b-1215-4868-9850-05023078536e",
   "metadata": {},
   "outputs": [],
   "source": []
  }
 ],
 "metadata": {
  "kernelspec": {
   "display_name": "Python 3 (ipykernel)",
   "language": "python",
   "name": "python3"
  },
  "language_info": {
   "codemirror_mode": {
    "name": "ipython",
    "version": 3
   },
   "file_extension": ".py",
   "mimetype": "text/x-python",
   "name": "python",
   "nbconvert_exporter": "python",
   "pygments_lexer": "ipython3",
   "version": "3.13.3"
  }
 },
 "nbformat": 4,
 "nbformat_minor": 5
}
